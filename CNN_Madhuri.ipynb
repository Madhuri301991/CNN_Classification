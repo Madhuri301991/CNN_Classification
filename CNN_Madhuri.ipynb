{
 "cells": [
  {
   "cell_type": "markdown",
   "id": "2142a6a3",
   "metadata": {},
   "source": [
    "# Convolutional Neural Network"
   ]
  },
  {
   "cell_type": "markdown",
   "id": "4bea0bad",
   "metadata": {},
   "source": [
    "Importing the libraries"
   ]
  },
  {
   "cell_type": "code",
   "execution_count": null,
   "id": "79011a3d",
   "metadata": {},
   "outputs": [],
   "source": [
    "import tensorflow as tf"
   ]
  },
  {
   "cell_type": "code",
   "execution_count": null,
   "id": "e1d5747d",
   "metadata": {},
   "outputs": [],
   "source": [
    "from keras.preprocessing.image import ImageDataGenerator"
   ]
  },
  {
   "cell_type": "code",
   "execution_count": null,
   "id": "96cd12c3",
   "metadata": {},
   "outputs": [],
   "source": [
    "tf.__version__"
   ]
  },
  {
   "cell_type": "code",
   "execution_count": null,
   "id": "a53f3a79",
   "metadata": {},
   "outputs": [],
   "source": [
    "tf.keras.__version__"
   ]
  },
  {
   "cell_type": "markdown",
   "id": "6fb10962",
   "metadata": {},
   "source": [
    "# PART 1 DATA PREPROCESSING "
   ]
  },
  {
   "cell_type": "markdown",
   "id": "42212cd1",
   "metadata": {},
   "source": [
    "preprocessing the training set "
   ]
  },
  {
   "cell_type": "code",
   "execution_count": null,
   "id": "b151e118",
   "metadata": {},
   "outputs": [],
   "source": [
    "train_datagen=ImageDataGenerator(rescale=1./255,shear_range=0.2,zoom_range=0.2,horizontal_flip=True)\n",
    "training_set=train_datagen.flow_from_directory('dataset/training_set',target_size=(64,64),batch_size=32,class_mode='binary')"
   ]
  },
  {
   "cell_type": "markdown",
   "id": "f88ff5be",
   "metadata": {},
   "source": [
    "preprocessing the test set "
   ]
  },
  {
   "cell_type": "code",
   "execution_count": null,
   "id": "e39977c9",
   "metadata": {},
   "outputs": [],
   "source": [
    "test_datagen=ImageDataGenerator(rescale=1./255)\n",
    "test_set=test_datagen.flow_from_directory('dataset/test_set',target_size=(64,64),batch_size=32,class_mode='binary')"
   ]
  },
  {
   "cell_type": "markdown",
   "id": "3061bfb9",
   "metadata": {},
   "source": [
    "## Part 2 Building the CNN"
   ]
  },
  {
   "cell_type": "markdown",
   "id": "f418d0f1",
   "metadata": {},
   "source": [
    "Initialising the CNN"
   ]
  },
  {
   "cell_type": "code",
   "execution_count": null,
   "id": "0ac3a615",
   "metadata": {},
   "outputs": [],
   "source": [
    "cnn=tf.keras.models.Sequential()"
   ]
  },
  {
   "cell_type": "markdown",
   "id": "9302289d",
   "metadata": {},
   "source": [
    "Step 1: Convolution"
   ]
  },
  {
   "cell_type": "code",
   "execution_count": null,
   "id": "a77f779c",
   "metadata": {},
   "outputs": [],
   "source": [
    "cnn.add(tf.keras.layers.Conv2D(filters=32,kernel_size=3,activation='relu',input_shape=[64,64,3]))"
   ]
  },
  {
   "cell_type": "markdown",
   "id": "e767042d",
   "metadata": {},
   "source": [
    "Step 2: Pooling "
   ]
  },
  {
   "cell_type": "code",
   "execution_count": null,
   "id": "55e1c913",
   "metadata": {},
   "outputs": [],
   "source": [
    "cnn.add(tf.keras.layers.MaxPool2D(pool_size=2,strides=2))"
   ]
  },
  {
   "cell_type": "markdown",
   "id": "198ccfab",
   "metadata": {},
   "source": [
    "Adding the second convolutional layer"
   ]
  },
  {
   "cell_type": "code",
   "execution_count": null,
   "id": "941509a0",
   "metadata": {},
   "outputs": [],
   "source": [
    "cnn.add(tf.keras.layers.Conv2D(filters=32,kernel_size=3,activation='relu',input_shape=[64,64,3]))\n",
    "cnn.add(tf.keras.layers.MaxPool2D(pool_size=2,strides=2))"
   ]
  },
  {
   "cell_type": "markdown",
   "id": "4eedf7aa",
   "metadata": {},
   "source": [
    "Step 3: Flattening"
   ]
  },
  {
   "cell_type": "code",
   "execution_count": null,
   "id": "b1441738",
   "metadata": {},
   "outputs": [],
   "source": [
    "cnn.add(tf.keras.layers.Flatten())"
   ]
  },
  {
   "cell_type": "markdown",
   "id": "94725d26",
   "metadata": {},
   "source": [
    "Step 4: Full Connection "
   ]
  },
  {
   "cell_type": "code",
   "execution_count": null,
   "id": "daa4d491",
   "metadata": {},
   "outputs": [],
   "source": [
    "cnn.add(tf.keras.layers.Dense(units=128,activation='relu')) "
   ]
  },
  {
   "cell_type": "markdown",
   "id": "93c3a068",
   "metadata": {},
   "source": [
    "Step 4: Output Layer"
   ]
  },
  {
   "cell_type": "code",
   "execution_count": null,
   "id": "c9428100",
   "metadata": {},
   "outputs": [],
   "source": [
    "cnn.add(tf.keras.layers.Dense(units=1,activation='sigmoid'))"
   ]
  },
  {
   "cell_type": "markdown",
   "id": "68736648",
   "metadata": {},
   "source": [
    "## Part 3 - Training the CNN\n"
   ]
  },
  {
   "cell_type": "markdown",
   "id": "10464474",
   "metadata": {},
   "source": [
    "Compiling the CNN"
   ]
  },
  {
   "cell_type": "code",
   "execution_count": null,
   "id": "249d1327",
   "metadata": {},
   "outputs": [],
   "source": [
    "cnn.compile(optimizer='adam',loss='binary_crossentropy',metrics=['accuracy'])"
   ]
  },
  {
   "cell_type": "markdown",
   "id": "01f579a0",
   "metadata": {},
   "source": [
    "Training the CNN on the training set and evaluating it on the test set "
   ]
  },
  {
   "cell_type": "code",
   "execution_count": null,
   "id": "8dd18792",
   "metadata": {},
   "outputs": [],
   "source": [
    "cnn.fit(x=training_set,validation_data=test_set,epochs=25)"
   ]
  },
  {
   "cell_type": "markdown",
   "id": "23f44023",
   "metadata": {},
   "source": [
    "## Part 4 - Making a single prediction "
   ]
  },
  {
   "cell_type": "code",
   "execution_count": null,
   "id": "2b3446ae",
   "metadata": {},
   "outputs": [],
   "source": [
    "import numpy as np"
   ]
  },
  {
   "cell_type": "code",
   "execution_count": null,
   "id": "365de8c3",
   "metadata": {},
   "outputs": [],
   "source": [
    "test_image=tf.keras.preprocessing.image.load_img('dataset/single_prediction/cat_or_dog_6.jpg',target_size=(64,64))\n",
    "test_image=tf.keras.preprocessing.image.img_to_array(test_image)\n",
    "test_image=np.expand_dims(test_image,axis=0)\n",
    "\n"
   ]
  },
  {
   "cell_type": "code",
   "execution_count": null,
   "id": "75770f81",
   "metadata": {},
   "outputs": [],
   "source": [
    "result=cnn.predict(test_image) \n",
    "training_set.class_indices\n",
    "if result[0][0]==1:\n",
    "    prediction='dog'\n",
    "else:\n",
    "    prediction='cat'\n",
    "    \n",
    "print(prediction)"
   ]
  }
 ],
 "metadata": {
  "kernelspec": {
   "display_name": "Python 3 (ipykernel)",
   "language": "python",
   "name": "python3"
  },
  "language_info": {
   "codemirror_mode": {
    "name": "ipython",
    "version": 3
   },
   "file_extension": ".py",
   "mimetype": "text/x-python",
   "name": "python",
   "nbconvert_exporter": "python",
   "pygments_lexer": "ipython3",
   "version": "3.9.12"
  }
 },
 "nbformat": 4,
 "nbformat_minor": 5
}
