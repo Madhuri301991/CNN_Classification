{
 "cells": [
  {
   "cell_type": "markdown",
   "id": "8afe83da",
   "metadata": {},
   "source": [
    "# Convolutional Neural Network"
   ]
  },
  {
   "cell_type": "markdown",
   "id": "c872c30a",
   "metadata": {},
   "source": [
    "Importing the libraries"
   ]
  },
  {
   "cell_type": "code",
   "execution_count": null,
   "id": "95457025",
   "metadata": {},
   "outputs": [],
   "source": [
    "import tensorflow as tf\n",
    "from tensorflow import keras"
   ]
  },
  {
   "cell_type": "markdown",
   "id": "593a8df9",
   "metadata": {},
   "source": [
    "# PART 1 DATA PREPROCESSING "
   ]
  },
  {
   "cell_type": "markdown",
   "id": "bd8c6e1b",
   "metadata": {},
   "source": [
    "preprocessing the training set "
   ]
  },
  {
   "cell_type": "code",
   "execution_count": null,
   "id": "917487dd",
   "metadata": {},
   "outputs": [],
   "source": [
    "image_size = 220\n",
    "batch_size = 10\n",
    "\n",
    "\n",
    "target_size = (image_size, image_size)\n",
    "input_shape = (image_size, image_size, 3)"
   ]
  },
  {
   "cell_type": "code",
   "execution_count": null,
   "id": "b35bf9e0",
   "metadata": {},
   "outputs": [],
   "source": [
    "from tensorflow.keras.preprocessing.image import ImageDataGenerator\n",
    "\n",
    "train_datagen = ImageDataGenerator(rescale=1./255,shear_range=0.2,zoom_range=0.2,horizontal_flip=True)\n",
    "\n",
    "\n",
    "train_set = train_datagen.flow_from_directory(\n",
    "        'soil_dataset/training_set', \n",
    "        target_size=target_size,\n",
    "        batch_size = batch_size,\n",
    "        classes = [ 'Black Soil','Cinder Soil', 'Laterite Soil','Peat Soil','Yellow Soil'],\n",
    "       class_mode='categorical')"
   ]
  },
  {
   "cell_type": "code",
   "execution_count": null,
   "id": "a3d3a147",
   "metadata": {},
   "outputs": [],
   "source": [
    "print (train_set.class_indices)"
   ]
  },
  {
   "cell_type": "code",
   "execution_count": null,
   "id": "0771ede6",
   "metadata": {},
   "outputs": [],
   "source": [
    "test_datagen=ImageDataGenerator(rescale=1./255)\n",
    "test_set=test_datagen.flow_from_directory('soil_dataset/test_set',target_size=target_size,batch_size=batch_size,classes = ['Black Soil','Cinder Soil', 'Laterite Soil','Peat Soil','Yellow Soil'],class_mode='categorical')"
   ]
  },
  {
   "cell_type": "markdown",
   "id": "b106f93a",
   "metadata": {},
   "source": [
    "## Part 2 Building the CNN"
   ]
  },
  {
   "cell_type": "markdown",
   "id": "f47b9246",
   "metadata": {},
   "source": [
    "Initialising the CNN"
   ]
  },
  {
   "cell_type": "code",
   "execution_count": null,
   "id": "97a7c82d",
   "metadata": {},
   "outputs": [],
   "source": [
    "cnn=tf.keras.models.Sequential()"
   ]
  },
  {
   "cell_type": "markdown",
   "id": "84eb1a72",
   "metadata": {},
   "source": [
    "Step 1: Convolution"
   ]
  },
  {
   "cell_type": "code",
   "execution_count": null,
   "id": "603c5224",
   "metadata": {},
   "outputs": [],
   "source": [
    "cnn.add(tf.keras.layers.Conv2D(filters=16,kernel_size=3,activation='relu',input_shape=[220,220,3]))"
   ]
  },
  {
   "cell_type": "markdown",
   "id": "59093ec1",
   "metadata": {},
   "source": [
    "Step 2: Pooling "
   ]
  },
  {
   "cell_type": "code",
   "execution_count": null,
   "id": "8b904eb5",
   "metadata": {},
   "outputs": [],
   "source": [
    "cnn.add(tf.keras.layers.MaxPool2D(pool_size=2,strides=2))"
   ]
  },
  {
   "cell_type": "markdown",
   "id": "c2be46c7",
   "metadata": {},
   "source": [
    "Adding the second convolutional layer"
   ]
  },
  {
   "cell_type": "code",
   "execution_count": null,
   "id": "28b8cbcc",
   "metadata": {},
   "outputs": [],
   "source": [
    "cnn.add(tf.keras.layers.Conv2D(filters=32,kernel_size=3,activation='relu'))\n",
    "cnn.add(tf.keras.layers.MaxPool2D(pool_size=2,strides=2))"
   ]
  },
  {
   "cell_type": "markdown",
   "id": "41d8a225",
   "metadata": {},
   "source": [
    "Adding the third convolutional layer"
   ]
  },
  {
   "cell_type": "code",
   "execution_count": null,
   "id": "a1b13162",
   "metadata": {},
   "outputs": [],
   "source": [
    "cnn.add(tf.keras.layers.Conv2D(filters=64,kernel_size=3,activation='relu'))\n",
    "cnn.add(tf.keras.layers.MaxPool2D(pool_size=2,strides=2))"
   ]
  },
  {
   "cell_type": "markdown",
   "id": "a58035c0",
   "metadata": {},
   "source": [
    "Adding the fourth convolutional layer"
   ]
  },
  {
   "cell_type": "code",
   "execution_count": null,
   "id": "88ac4b2a",
   "metadata": {},
   "outputs": [],
   "source": [
    "cnn.add(tf.keras.layers.Conv2D(filters=64,kernel_size=3,activation='relu'))\n",
    "cnn.add(tf.keras.layers.MaxPool2D(pool_size=2,strides=2))"
   ]
  },
  {
   "cell_type": "markdown",
   "id": "88f7f759",
   "metadata": {},
   "source": [
    "Adding the fifth convolutional layer"
   ]
  },
  {
   "cell_type": "code",
   "execution_count": null,
   "id": "9ec9f8b3",
   "metadata": {},
   "outputs": [],
   "source": [
    "cnn.add(tf.keras.layers.Conv2D(filters=64,kernel_size=3,activation='relu'))\n",
    "cnn.add(tf.keras.layers.MaxPool2D(pool_size=2,strides=2))"
   ]
  },
  {
   "cell_type": "markdown",
   "id": "8de9e564",
   "metadata": {},
   "source": [
    "Step 3: Flattening"
   ]
  },
  {
   "cell_type": "code",
   "execution_count": null,
   "id": "65a69421",
   "metadata": {},
   "outputs": [],
   "source": [
    "cnn.add(tf.keras.layers.Flatten())"
   ]
  },
  {
   "cell_type": "markdown",
   "id": "7a207aac",
   "metadata": {},
   "source": [
    "Step 4: Full Connection "
   ]
  },
  {
   "cell_type": "code",
   "execution_count": null,
   "id": "2e215535",
   "metadata": {},
   "outputs": [],
   "source": [
    "cnn.add(tf.keras.layers.Dense(units=128,activation='relu')) "
   ]
  },
  {
   "cell_type": "markdown",
   "id": "59c53c51",
   "metadata": {},
   "source": [
    "Step 4: Output Layer"
   ]
  },
  {
   "cell_type": "code",
   "execution_count": null,
   "id": "65ec0539",
   "metadata": {},
   "outputs": [],
   "source": [
    "cnn.add(tf.keras.layers.Dense(units=5,activation='softmax'))"
   ]
  },
  {
   "cell_type": "code",
   "execution_count": null,
   "id": "b7da03e7",
   "metadata": {},
   "outputs": [],
   "source": [
    "cnn.summary()"
   ]
  },
  {
   "cell_type": "markdown",
   "id": "d51ccf34",
   "metadata": {},
   "source": [
    "## Part 3 - Training the CNN"
   ]
  },
  {
   "cell_type": "markdown",
   "id": "26730d21",
   "metadata": {},
   "source": [
    "Compiling the CNN"
   ]
  },
  {
   "cell_type": "code",
   "execution_count": null,
   "id": "46de2db7",
   "metadata": {},
   "outputs": [],
   "source": [
    "\n",
    "cnn.compile(loss='categorical_crossentropy',\n",
    "              optimizer='adam',\n",
    "              metrics=['acc'])"
   ]
  },
  {
   "cell_type": "markdown",
   "id": "b020a01b",
   "metadata": {},
   "source": [
    "Training the CNN on the training set"
   ]
  },
  {
   "cell_type": "code",
   "execution_count": null,
   "id": "a5a61b1e",
   "metadata": {},
   "outputs": [],
   "source": [
    "total_sample = train_set.n\n",
    "n_epochs = 30"
   ]
  },
  {
   "cell_type": "code",
   "execution_count": null,
   "id": "34b88723",
   "metadata": {},
   "outputs": [],
   "source": [
    "model = cnn.fit(train_set,validation_data=test_set, steps_per_epoch = int(total_sample/batch_size),  epochs = n_epochs,verbose = 1)"
   ]
  },
  {
   "cell_type": "code",
   "execution_count": null,
   "id": "300c3428",
   "metadata": {},
   "outputs": [],
   "source": [
    "import matplotlib.pyplot as plt"
   ]
  },
  {
   "cell_type": "code",
   "execution_count": null,
   "id": "f69d200f",
   "metadata": {},
   "outputs": [],
   "source": [
    "plt.figure(figsize=(7,4))\n",
    "plt.plot([i+1 for i in range(n_epochs)],model.history['acc'],'-o',c='k',lw=2,markersize=9)\n",
    "plt.grid(True)\n",
    "plt.title(\"Training accuracy with epochs\\n\",fontsize=18)\n",
    "plt.xlabel(\"Training epochs\",fontsize=15)\n",
    "plt.ylabel(\"Training accuracy\",fontsize=15)\n",
    "plt.xticks(fontsize=15)\n",
    "plt.yticks(fontsize=15)\n",
    "plt.show()"
   ]
  },
  {
   "cell_type": "markdown",
   "id": "036cf2f8",
   "metadata": {},
   "source": [
    "## Part 4 - Making a single prediction "
   ]
  },
  {
   "cell_type": "code",
   "execution_count": null,
   "id": "8064c669",
   "metadata": {},
   "outputs": [],
   "source": [
    "import numpy as np"
   ]
  },
  {
   "cell_type": "code",
   "execution_count": null,
   "id": "825fdce1",
   "metadata": {},
   "outputs": [],
   "source": [
    "test_image=tf.keras.preprocessing.image.load_img('soil_dataset/Y_29.jpg',target_size=(220,220))\n",
    "test_image=tf.keras.preprocessing.image.img_to_array(test_image)\n",
    "test_image=np.expand_dims(test_image,axis=0)\n"
   ]
  },
  {
   "cell_type": "code",
   "execution_count": null,
   "id": "930f114d",
   "metadata": {},
   "outputs": [],
   "source": [
    "result=cnn.predict(test_image) \n",
    "print(result)\n",
    "if result[0][0]==1:\n",
    "    predication='Black Soil'\n",
    "elif result[0][1]==1:\n",
    "    predication='Cinder Soil'\n",
    "elif result[0][2]==1:\n",
    "    predication='Laterite Soil'\n",
    "elif result[0][3]==1:\n",
    "    predication='Peat Soil'\n",
    "elif result[0][4]==1:\n",
    "    predication='Yellow Soil'\n",
    "else:\n",
    "    predication='No soil'\n",
    "print(predication)"
   ]
  }
 ],
 "metadata": {
  "kernelspec": {
   "display_name": "Python 3 (ipykernel)",
   "language": "python",
   "name": "python3"
  },
  "language_info": {
   "codemirror_mode": {
    "name": "ipython",
    "version": 3
   },
   "file_extension": ".py",
   "mimetype": "text/x-python",
   "name": "python",
   "nbconvert_exporter": "python",
   "pygments_lexer": "ipython3",
   "version": "3.9.12"
  }
 },
 "nbformat": 4,
 "nbformat_minor": 5
}
